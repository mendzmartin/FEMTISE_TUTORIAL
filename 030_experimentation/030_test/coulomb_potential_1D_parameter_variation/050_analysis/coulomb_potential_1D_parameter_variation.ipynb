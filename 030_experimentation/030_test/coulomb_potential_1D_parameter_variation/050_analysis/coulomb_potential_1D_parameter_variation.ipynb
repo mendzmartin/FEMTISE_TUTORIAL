{
 "cells": [
  {
   "cell_type": "code",
   "execution_count": 1,
   "metadata": {},
   "outputs": [
    {
     "name": "stderr",
     "output_type": "stream",
     "text": [
      "\u001b[32m\u001b[1m  Activating\u001b[22m\u001b[39m project at `~/github_repositories/my_repositories/FEMTISE_TUTORIAL/030_experimentation/030_test/coulomb_potential_1D_parameter_variation`\n"
     ]
    },
    {
     "name": "stdout",
     "output_type": "stream",
     "text": [
      "\u001b[32m\u001b[1mStatus\u001b[22m\u001b[39m `~/github_repositories/my_repositories/FEMTISE_TUTORIAL/030_experimentation/030_test/coulomb_potential_1D_parameter_variation/Project.toml`\n",
      "  \u001b[90m[8bb1440f] \u001b[39mDelimitedFiles v1.9.1\n",
      "  \u001b[90m[0bd82848] \u001b[39mFEMTISE v1.0.0-DEV `~/github_repositories/my_repositories/FEMTISE.jl`\n",
      "  \u001b[90m[56d4f2e9] \u001b[39mGridap v0.18.2\n",
      "  \u001b[90m[033835bb] \u001b[39mJLD2 v0.4.48\n",
      "  \u001b[90m[f0f68f2c] \u001b[39mPlotlyJS v0.18.13\n",
      "  \u001b[90m[91a5bcdd] \u001b[39mPlots v1.40.4\n",
      "  \u001b[90m[295af30f] \u001b[39mRevise v3.5.14\n"
     ]
    }
   ],
   "source": [
    "using Pkg\n",
    "Pkg.activate(\"../\")\n",
    "Pkg.instantiate()\n",
    "Pkg.status()"
   ]
  },
  {
   "cell_type": "code",
   "execution_count": 2,
   "metadata": {},
   "outputs": [],
   "source": [
    "develop_package = false\n",
    "computer = \"notebook\"\n",
    "\n",
    "if computer == \"notebook\"\n",
    "    kernel_dir = \"mendez\"\n",
    "elseif computer == \"pcfamaf\"\n",
    "    kernel_dir = \"martin\"\n",
    "elseif computer == \"ccad\"\n",
    "    kernel_dir = \"martinmendez\"\n",
    "end\n",
    "\n",
    "develop_package ? Pkg.develop(path=\"/home/$(kernel_dir)/github_repositories/my_repositories/FEMTISE.jl\") : nothing"
   ]
  },
  {
   "cell_type": "code",
   "execution_count": 3,
   "metadata": {},
   "outputs": [],
   "source": [
    "install_pkg = false\n",
    "if install_pkg\n",
    "    Pkg.add(\"Revise\")\n",
    "    Pkg.add(\"Gridap\")\n",
    "    Pkg.add(\"Plots\")\n",
    "    Pkg.add(\"JLD2\")\n",
    "    Pkg.add(\"DelimitedFiles\")\n",
    "    Pkg.add(\"PlotlyJS\")\n",
    "end\n",
    "using Revise;\n",
    "using FEMTISE;\n",
    "using Gridap;\n",
    "using Gridap.CellData;\n",
    "using Plots;\n",
    "using JLD2;\n",
    "using DelimitedFiles;"
   ]
  },
  {
   "cell_type": "code",
   "execution_count": 8,
   "metadata": {},
   "outputs": [
    {
     "data": {
      "text/plain": [
       "coulomb_potential_interaction_1D (generic function with 1 method)"
      ]
     },
     "metadata": {},
     "output_type": "display_data"
    }
   ],
   "source": [
    "include(\"./post_proccesing_result_data.jl\")\n",
    "include(\"./adhoc_potential_function.jl\")"
   ]
  },
  {
   "cell_type": "code",
   "execution_count": 5,
   "metadata": {},
   "outputs": [
    {
     "data": {
      "text/plain": [
       "\"/home/mendez/github_repositories/my_repositories/FEMTISE_TUTORIAL/030_experimentation/030_test/coulomb_potential_1D_parameter_variation/020_input/input\""
      ]
     },
     "metadata": {},
     "output_type": "display_data"
    }
   ],
   "source": [
    "path_repository=\"/home/$(kernel_dir)/github_repositories/my_repositories/FEMTISE_TUTORIAL/\"\n",
    "path_input_file=\"$(path_repository)030_experimentation/030_test/coulomb_potential_1D_parameter_variation/020_input/\"\n",
    "input_file_name=\"$(path_input_file)input\""
   ]
  },
  {
   "cell_type": "code",
   "execution_count": 9,
   "metadata": {},
   "outputs": [
    {
     "data": {
      "text/plain": [
       "(InputData1D{Tuple{String, String}, Params1D, Bool}(\"/home/mendez/github_repositories/my_repositories/FEMTISE_TUTORIAL/030_experimentation/030_test/coulomb_potential_1D_parameter_variation/040_output/\", \"/home/mendez/github_repositories/my_repositories/FEMTISE_TUTORIAL/030_experimentation/030_test/coulomb_potential_1D_parameter_variation/050_analysis/adhoc_potential_function\", Params1D(\"1D\", 100.0, \"ns\", 0.1, 10, 0.0, \"coulomb_potential_interaction_1D\", (-1.0, -1.0, 0.01)), false, (\"jld2\", \"eigen\")), DefaultJLD2EigenProblem{Vector{Float64}, Vector{VectorValue{1, Float64}}}(ComplexF64[0.014992212660970772 - 1.1750488406398212e-18im, 0.020338859316770697 + 1.2278433070075545e-18im, 0.02608321294138056 + 2.969192901754202e-18im, 0.032423687717649155 + 6.078150189926627e-18im, 0.0394462883434214 + 2.7943460548513886e-18im, 0.04720380919841334 - 5.5689223583034386e-18im, 0.055734108945548845 - 1.4636721947755e-18im, 0.06506652450155188 - 4.204775118347511e-18im, 0.07522475939991947 + 6.798036366357323e-18im, 0.08622843800103644 + 1.0345323909448696e-17im], CellField[SingleFieldFEFunction(), SingleFieldFEFunction(), SingleFieldFEFunction(), SingleFieldFEFunction(), SingleFieldFEFunction(), SingleFieldFEFunction(), SingleFieldFEFunction(), SingleFieldFEFunction(), SingleFieldFEFunction(), SingleFieldFEFunction()], [0.0, 0.1, 0.2, 0.30000000000000004, 0.4, 0.5, 0.6000000000000001, 0.7000000000000001, 0.8, 0.9  …  99.0, 99.10000000000001, 99.2, 99.30000000000001, 99.4, 99.5, 99.60000000000001, 99.7, 99.80000000000001, 99.9], VectorValue{1, Float64}[(0.0,), (0.1,), (0.2,), (0.30000000000000004,), (0.4,), (0.5,), (0.6000000000000001,), (0.7000000000000001,), (0.8,), (0.9,)  …  (99.0,), (99.10000000000001,), (99.2,), (99.30000000000001,), (99.4,), (99.5,), (99.60000000000001,), (99.7,), (99.80000000000001,), (99.9,)]))"
      ]
     },
     "metadata": {},
     "output_type": "display_data"
    }
   ],
   "source": [
    "simulation_info, output_data = collect_result_data(true,input_file_name)"
   ]
  },
  {
   "cell_type": "code",
   "execution_count": 10,
   "metadata": {},
   "outputs": [
    {
     "data": {
      "application/vnd.plotly.v1+json": {
       "data": [
        {
         "colorbar": {
          "len": 0.914342738407699,
          "title": "",
          "x": 0.9934383202099738,
          "y": 0.5329861111111112
         },
         "legendgroup": "y1",
         "marker": {
          "color": "rgba(0, 154, 250, 1.000)",
          "line": {
           "color": "rgba(0, 0, 0, 1.000)",
           "width": 1
          },
          "size": 8,
          "symbol": "circle"
         },
         "mode": "markers",
         "name": "y1",
         "showlegend": true,
         "type": "scatter",
         "x": [
          1,
          2,
          3,
          4,
          5,
          6,
          7,
          8,
          9,
          10
         ],
         "xaxis": "x",
         "y": [
          0.014992212660970772,
          0.020338859316770697,
          0.02608321294138056,
          0.032423687717649155,
          0.0394462883434214,
          0.04720380919841334,
          0.055734108945548845,
          0.06506652450155188,
          0.07522475939991947,
          0.08622843800103644
         ],
         "yaxis": "y"
        }
       ],
       "layout": {
        "annotations": [],
        "height": 400,
        "legend": {
         "bgcolor": "rgba(255, 255, 255, 1.000)",
         "bordercolor": "rgba(0, 0, 0, 1.000)",
         "borderwidth": 1,
         "font": {
          "color": "rgba(0, 0, 0, 1.000)",
          "family": "sans-serif",
          "size": 11
         },
         "title": {
          "font": {
           "color": "rgba(0, 0, 0, 1.000)",
           "family": "sans-serif",
           "size": 15
          },
          "text": ""
         },
         "tracegroupgap": 0,
         "traceorder": "normal",
         "x": 1,
         "xanchor": "right",
         "y": 0.07,
         "yanchor": "bottom"
        },
        "margin": {
         "b": 20,
         "l": 0,
         "r": 0,
         "t": 20
        },
        "paper_bgcolor": "rgba(255, 255, 255, 1.000)",
        "plot_bgcolor": "rgba(255, 255, 255, 1.000)",
        "showlegend": true,
        "width": 600,
        "xaxis": {
         "anchor": "y",
         "domain": [
          0.09128390201224845,
          0.9934383202099738
         ],
         "gridcolor": "rgba(0, 0, 0, 0.100)",
         "gridwidth": 0.5,
         "linecolor": "rgba(0, 0, 0, 1.000)",
         "mirror": false,
         "range": [
          0.7299999999999995,
          10.27
         ],
         "showgrid": true,
         "showline": true,
         "showticklabels": true,
         "tickangle": 0,
         "tickcolor": "rgb(0, 0, 0)",
         "tickfont": {
          "color": "rgba(0, 0, 0, 1.000)",
          "family": "sans-serif",
          "size": 11
         },
         "tickmode": "array",
         "ticks": "inside",
         "ticktext": [
          "2",
          "4",
          "6",
          "8",
          "10"
         ],
         "tickvals": [
          2,
          4,
          6,
          8,
          10
         ],
         "title": "n",
         "titlefont": {
          "color": "rgba(0, 0, 0, 1.000)",
          "family": "sans-serif",
          "size": 15
         },
         "type": "-",
         "visible": true,
         "zeroline": false,
         "zerolinecolor": "rgba(0, 0, 0, 1.000)"
        },
        "yaxis": {
         "anchor": "x",
         "domain": [
          0.07581474190726165,
          0.9901574803149606
         ],
         "gridcolor": "rgba(0, 0, 0, 0.100)",
         "gridwidth": 0.5,
         "linecolor": "rgba(0, 0, 0, 1.000)",
         "mirror": false,
         "range": [
          0.012855125900768795,
          0.0883655247612384
         ],
         "showgrid": true,
         "showline": true,
         "showticklabels": true,
         "tickangle": 0,
         "tickcolor": "rgb(0, 0, 0)",
         "tickfont": {
          "color": "rgba(0, 0, 0, 1.000)",
          "family": "sans-serif",
          "size": 11
         },
         "tickmode": "array",
         "ticks": "inside",
         "ticktext": [
          "0.02",
          "0.03",
          "0.04",
          "0.05",
          "0.06",
          "0.07",
          "0.08"
         ],
         "tickvals": [
          0.020000000000000004,
          0.030000000000000006,
          0.04000000000000001,
          0.05000000000000001,
          0.06000000000000001,
          0.07,
          0.08000000000000002
         ],
         "title": "eigenenergy (ϵₙ) [au]",
         "titlefont": {
          "color": "rgba(0, 0, 0, 1.000)",
          "family": "sans-serif",
          "size": 15
         },
         "type": "-",
         "visible": true,
         "zeroline": false,
         "zerolinecolor": "rgba(0, 0, 0, 1.000)"
        }
       }
      },
      "image/png": "[encoded data removed]",
      "image/svg+xml": [
       "<svg class=\"main-svg\" xmlns=\"http://www.w3.org/2000/svg\" xmlns:xlink=\"http://www.w3.org/1999/xlink\" width=\"700\" height=\"500\" style=\"\" viewBox=\"0 0 700 500\"><rect x=\"0\" y=\"0\" width=\"700\" height=\"500\" style=\"fill: rgb(255, 255, 255); fill-opacity: 1;\"/><defs id=\"defs-6efe31\"><g class=\"clips\"><clipPath id=\"clip6efe31xyplot\" class=\"plotclip\"><rect width=\"541.2926509186352\" height=\"356.5936679790026\"/></clipPath><clipPath class=\"axesclip\" id=\"clip6efe31x\"><rect x=\"104.77034120734908\" y=\"0\" width=\"541.2926509186352\" height=\"500\"/></clipPath><clipPath class=\"axesclip\" id=\"clip6efe31y\"><rect x=\"0\" y=\"63.83858267716535\" width=\"700\" height=\"356.5936679790026\"/></clipPath><clipPath class=\"axesclip\" id=\"clip6efe31xy\"><rect x=\"104.77034120734908\" y=\"63.83858267716535\" width=\"541.2926509186352\" height=\"356.5936679790026\"/></clipPath></g><g class=\"gradients\"/></defs><g class=\"bglayer\"/><g class=\"layer-below\"><g class=\"imagelayer\"/><g class=\"shapelayer\"/></g><g class=\"cartesianlayer\"><g class=\"subplot xy\"><g class=\"layer-subplot\"><g class=\"shapelayer\"/><g class=\"imagelayer\"/></g><g class=\"gridlayer\"><g class=\"x\"><path class=\"xgrid crisp\" transform=\"translate(176.83034120734908,0)\" d=\"M0,63.83858267716535v356.5936679790026\" style=\"stroke: rgb(0, 0, 0); stroke-opacity: 0.1; stroke-width: 0.5px;\"/><path class=\"xgrid crisp\" transform=\"translate(290.3103412073491,0)\" d=\"M0,63.83858267716535v356.5936679790026\" style=\"stroke: rgb(0, 0, 0); stroke-opacity: 0.1; stroke-width: 0.5px;\"/><path class=\"xgrid crisp\" transform=\"translate(403.79034120734906,0)\" d=\"M0,63.83858267716535v356.5936679790026\" style=\"stroke: rgb(0, 0, 0); stroke-opacity: 0.1; stroke-width: 0.5px;\"/><path class=\"xgrid crisp\" transform=\"translate(517.260341207349,0)\" d=\"M0,63.83858267716535v356.5936679790026\" style=\"stroke: rgb(0, 0, 0); stroke-opacity: 0.1; stroke-width: 0.5px;\"/><path class=\"xgrid crisp\" transform=\"translate(630.740341207349,0)\" d=\"M0,63.83858267716535v356.5936679790026\" style=\"stroke: rgb(0, 0, 0); stroke-opacity: 0.1; stroke-width: 0.5px;\"/></g><g class=\"y\"><path class=\"ygrid crisp\" transform=\"translate(0,386.68858267716536)\" d=\"M104.77034120734908,0h541.2926509186352\" style=\"stroke: rgb(0, 0, 0); stroke-opacity: 0.1; stroke-width: 0.5px;\"/><path class=\"ygrid crisp\" transform=\"translate(0,339.46858267716533)\" d=\"M104.77034120734908,0h541.2926509186352\" style=\"stroke: rgb(0, 0, 0); stroke-opacity: 0.1; stroke-width: 0.5px;\"/><path class=\"ygrid crisp\" transform=\"translate(0,292.23858267716537)\" d=\"M104.77034120734908,0h541.2926509186352\" style=\"stroke: rgb(0, 0, 0); stroke-opacity: 0.1; stroke-width: 0.5px;\"/><path class=\"ygrid crisp\" transform=\"translate(0,245.01858267716534)\" d=\"M104.77034120734908,0h541.2926509186352\" style=\"stroke: rgb(0, 0, 0); stroke-opacity: 0.1; stroke-width: 0.5px;\"/><path class=\"ygrid crisp\" transform=\"translate(0,197.78858267716532)\" d=\"M104.77034120734908,0h541.2926509186352\" style=\"stroke: rgb(0, 0, 0); stroke-opacity: 0.1; stroke-width: 0.5px;\"/><path class=\"ygrid crisp\" transform=\"translate(0,150.56858267716535)\" d=\"M104.77034120734908,0h541.2926509186352\" style=\"stroke: rgb(0, 0, 0); stroke-opacity: 0.1; stroke-width: 0.5px;\"/><path class=\"ygrid crisp\" transform=\"translate(0,103.34858267716535)\" d=\"M104.77034120734908,0h541.2926509186352\" style=\"stroke: rgb(0, 0, 0); stroke-opacity: 0.1; stroke-width: 0.5px;\"/></g></g><g class=\"zerolinelayer\"/><path class=\"xlines-below\"/><path class=\"ylines-below\"/><g class=\"overlines-below\"/><g class=\"xaxislayer-below\"/><g class=\"yaxislayer-below\"/><g class=\"overaxes-below\"/><g class=\"plot\" transform=\"translate(104.77034120734908,63.83858267716535)\" clip-path=\"url('#clip6efe31xyplot')\"><g class=\"scatterlayer mlayer\"><g class=\"trace scatter trace81a846\" style=\"stroke-miterlimit: 2; opacity: 1;\"><g class=\"fills\"/><g class=\"errorbars\"/><g class=\"lines\"/><g class=\"points\"><path class=\"point\" transform=\"translate(15.32,346.5)\" d=\"M4,0A4,4 0 1,1 0,-4A4,4 0 0,1 4,0Z\" style=\"opacity: 1; stroke-width: 1px; fill: rgb(0, 154, 250); fill-opacity: 1; stroke: rgb(0, 0, 0); stroke-opacity: 1;\"/><path class=\"point\" transform=\"translate(72.06,321.25)\" d=\"M4,0A4,4 0 1,1 0,-4A4,4 0 0,1 4,0Z\" style=\"opacity: 1; stroke-width: 1px; fill: rgb(0, 154, 250); fill-opacity: 1; stroke: rgb(0, 0, 0); stroke-opacity: 1;\"/><path class=\"point\" transform=\"translate(128.8,294.12)\" d=\"M4,0A4,4 0 1,1 0,-4A4,4 0 0,1 4,0Z\" style=\"opacity: 1; stroke-width: 1px; fill: rgb(0, 154, 250); fill-opacity: 1; stroke: rgb(0, 0, 0); stroke-opacity: 1;\"/><path class=\"point\" transform=\"translate(185.54,264.18)\" d=\"M4,0A4,4 0 1,1 0,-4A4,4 0 0,1 4,0Z\" style=\"opacity: 1; stroke-width: 1px; fill: rgb(0, 154, 250); fill-opacity: 1; stroke: rgb(0, 0, 0); stroke-opacity: 1;\"/><path class=\"point\" transform=\"translate(242.28,231.02)\" d=\"M4,0A4,4 0 1,1 0,-4A4,4 0 0,1 4,0Z\" style=\"opacity: 1; stroke-width: 1px; fill: rgb(0, 154, 250); fill-opacity: 1; stroke: rgb(0, 0, 0); stroke-opacity: 1;\"/><path class=\"point\" transform=\"translate(299.02,194.38)\" d=\"M4,0A4,4 0 1,1 0,-4A4,4 0 0,1 4,0Z\" style=\"opacity: 1; stroke-width: 1px; fill: rgb(0, 154, 250); fill-opacity: 1; stroke: rgb(0, 0, 0); stroke-opacity: 1;\"/><path class=\"point\" transform=\"translate(355.76,154.1)\" d=\"M4,0A4,4 0 1,1 0,-4A4,4 0 0,1 4,0Z\" style=\"opacity: 1; stroke-width: 1px; fill: rgb(0, 154, 250); fill-opacity: 1; stroke: rgb(0, 0, 0); stroke-opacity: 1;\"/><path class=\"point\" transform=\"translate(412.49,110.03)\" d=\"M4,0A4,4 0 1,1 0,-4A4,4 0 0,1 4,0Z\" style=\"opacity: 1; stroke-width: 1px; fill: rgb(0, 154, 250); fill-opacity: 1; stroke: rgb(0, 0, 0); stroke-opacity: 1;\"/><path class=\"point\" transform=\"translate(469.23,62.06)\" d=\"M4,0A4,4 0 1,1 0,-4A4,4 0 0,1 4,0Z\" style=\"opacity: 1; stroke-width: 1px; fill: rgb(0, 154, 250); fill-opacity: 1; stroke: rgb(0, 0, 0); stroke-opacity: 1;\"/><path class=\"point\" transform=\"translate(525.97,10.09)\" d=\"M4,0A4,4 0 1,1 0,-4A4,4 0 0,1 4,0Z\" style=\"opacity: 1; stroke-width: 1px; fill: rgb(0, 154, 250); fill-opacity: 1; stroke: rgb(0, 0, 0); stroke-opacity: 1;\"/></g><g class=\"text\"/></g></g></g><g class=\"overplot\"/><path class=\"xlines-above crisp\" d=\"M103.77034120734908,420.9322506561679H646.0629921259842\" style=\"fill: none; stroke-width: 1px; stroke: rgb(0, 0, 0); stroke-opacity: 1;\"/><path class=\"ylines-above crisp\" d=\"M104.27034120734908,63.83858267716535V420.4322506561679\" style=\"fill: none; stroke-width: 1px; stroke: rgb(0, 0, 0); stroke-opacity: 1;\"/><g class=\"overlines-above\"/><g class=\"xaxislayer-above\"><path class=\"xtick ticks crisp\" d=\"M0,420.4322506561679v-5\" transform=\"translate(176.83034120734908,0)\" style=\"stroke: rgb(0, 0, 0); stroke-opacity: 1; stroke-width: 1px;\"/><path class=\"xtick ticks crisp\" d=\"M0,420.4322506561679v-5\" transform=\"translate(290.3103412073491,0)\" style=\"stroke: rgb(0, 0, 0); stroke-opacity: 1; stroke-width: 1px;\"/><path class=\"xtick ticks crisp\" d=\"M0,420.4322506561679v-5\" transform=\"translate(403.79034120734906,0)\" style=\"stroke: rgb(0, 0, 0); stroke-opacity: 1; stroke-width: 1px;\"/><path class=\"xtick ticks crisp\" d=\"M0,420.4322506561679v-5\" transform=\"translate(517.260341207349,0)\" style=\"stroke: rgb(0, 0, 0); stroke-opacity: 1; stroke-width: 1px;\"/><path class=\"xtick ticks crisp\" d=\"M0,420.4322506561679v-5\" transform=\"translate(630.740341207349,0)\" style=\"stroke: rgb(0, 0, 0); stroke-opacity: 1; stroke-width: 1px;\"/><g class=\"xtick\"><text text-anchor=\"middle\" x=\"0\" y=\"434.6322506561679\" transform=\"translate(176.83034120734908,0)\" style=\"font-family: sans-serif; font-size: 11px; fill: rgb(0, 0, 0); fill-opacity: 1; white-space: pre;\">2</text></g><g class=\"xtick\"><text text-anchor=\"middle\" x=\"0\" y=\"434.6322506561679\" transform=\"translate(290.3103412073491,0)\" style=\"font-family: sans-serif; font-size: 11px; fill: rgb(0, 0, 0); fill-opacity: 1; white-space: pre;\">4</text></g><g class=\"xtick\"><text text-anchor=\"middle\" x=\"0\" y=\"434.6322506561679\" transform=\"translate(403.79034120734906,0)\" style=\"font-family: sans-serif; font-size: 11px; fill: rgb(0, 0, 0); fill-opacity: 1; white-space: pre;\">6</text></g><g class=\"xtick\"><text text-anchor=\"middle\" x=\"0\" y=\"434.6322506561679\" transform=\"translate(517.260341207349,0)\" style=\"font-family: sans-serif; font-size: 11px; fill: rgb(0, 0, 0); fill-opacity: 1; white-space: pre;\">8</text></g><g class=\"xtick\"><text text-anchor=\"middle\" x=\"0\" y=\"434.6322506561679\" transform=\"translate(630.740341207349,0)\" style=\"font-family: sans-serif; font-size: 11px; fill: rgb(0, 0, 0); fill-opacity: 1; white-space: pre;\">10</text></g></g><g class=\"yaxislayer-above\"><path class=\"ytick ticks crisp\" d=\"M104.77034120734908,0h5\" transform=\"translate(0,386.68858267716536)\" style=\"stroke: rgb(0, 0, 0); stroke-opacity: 1; stroke-width: 1px;\"/><path class=\"ytick ticks crisp\" d=\"M104.77034120734908,0h5\" transform=\"translate(0,339.46858267716533)\" style=\"stroke: rgb(0, 0, 0); stroke-opacity: 1; stroke-width: 1px;\"/><path class=\"ytick ticks crisp\" d=\"M104.77034120734908,0h5\" transform=\"translate(0,292.23858267716537)\" style=\"stroke: rgb(0, 0, 0); stroke-opacity: 1; stroke-width: 1px;\"/><path class=\"ytick ticks crisp\" d=\"M104.77034120734908,0h5\" transform=\"translate(0,245.01858267716534)\" style=\"stroke: rgb(0, 0, 0); stroke-opacity: 1; stroke-width: 1px;\"/><path class=\"ytick ticks crisp\" d=\"M104.77034120734908,0h5\" transform=\"translate(0,197.78858267716532)\" style=\"stroke: rgb(0, 0, 0); stroke-opacity: 1; stroke-width: 1px;\"/><path class=\"ytick ticks crisp\" d=\"M104.77034120734908,0h5\" transform=\"translate(0,150.56858267716535)\" style=\"stroke: rgb(0, 0, 0); stroke-opacity: 1; stroke-width: 1px;\"/><path class=\"ytick ticks crisp\" d=\"M104.77034120734908,0h5\" transform=\"translate(0,103.34858267716535)\" style=\"stroke: rgb(0, 0, 0); stroke-opacity: 1; stroke-width: 1px;\"/><g class=\"ytick\"><text text-anchor=\"end\" x=\"101.57034120734907\" y=\"3.8499999999999996\" transform=\"translate(0,386.68858267716536)\" style=\"font-family: sans-serif; font-size: 11px; fill: rgb(0, 0, 0); fill-opacity: 1; white-space: pre;\">0.02</text></g><g class=\"ytick\"><text text-anchor=\"end\" x=\"101.57034120734907\" y=\"3.8499999999999996\" transform=\"translate(0,339.46858267716533)\" style=\"font-family: sans-serif; font-size: 11px; fill: rgb(0, 0, 0); fill-opacity: 1; white-space: pre;\">0.03</text></g><g class=\"ytick\"><text text-anchor=\"end\" x=\"101.57034120734907\" y=\"3.8499999999999996\" transform=\"translate(0,292.23858267716537)\" style=\"font-family: sans-serif; font-size: 11px; fill: rgb(0, 0, 0); fill-opacity: 1; white-space: pre;\">0.04</text></g><g class=\"ytick\"><text text-anchor=\"end\" x=\"101.57034120734907\" y=\"3.8499999999999996\" transform=\"translate(0,245.01858267716534)\" style=\"font-family: sans-serif; font-size: 11px; fill: rgb(0, 0, 0); fill-opacity: 1; white-space: pre;\">0.05</text></g><g class=\"ytick\"><text text-anchor=\"end\" x=\"101.57034120734907\" y=\"3.8499999999999996\" transform=\"translate(0,197.78858267716532)\" style=\"font-family: sans-serif; font-size: 11px; fill: rgb(0, 0, 0); fill-opacity: 1; white-space: pre;\">0.06</text></g><g class=\"ytick\"><text text-anchor=\"end\" x=\"101.57034120734907\" y=\"3.8499999999999996\" transform=\"translate(0,150.56858267716535)\" style=\"font-family: sans-serif; font-size: 11px; fill: rgb(0, 0, 0); fill-opacity: 1; white-space: pre;\">0.07</text></g><g class=\"ytick\"><text text-anchor=\"end\" x=\"101.57034120734907\" y=\"3.8499999999999996\" transform=\"translate(0,103.34858267716535)\" style=\"font-family: sans-serif; font-size: 11px; fill: rgb(0, 0, 0); fill-opacity: 1; white-space: pre;\">0.08</text></g></g><g class=\"overaxes-above\"/></g></g><g class=\"polarlayer\"/><g class=\"ternarylayer\"/><g class=\"geolayer\"/><g class=\"funnelarealayer\"/><g class=\"pielayer\"/><g class=\"treemaplayer\"/><g class=\"sunburstlayer\"/><g class=\"glimages\"/><defs id=\"topdefs-6efe31\"><g class=\"clips\"/><clipPath id=\"legend6efe31\"><rect width=\"57\" height=\"29\" x=\"1\" y=\"1\"/></clipPath></defs><g class=\"layer-above\"><g class=\"imagelayer\"/><g class=\"shapelayer\"/></g><g class=\"infolayer\"><g class=\"legend\" pointer-events=\"all\" transform=\"translate(591,391.7)\"><rect class=\"bg\" shape-rendering=\"crispEdges\" style=\"stroke: rgb(0, 0, 0); stroke-opacity: 1; fill: rgb(255, 255, 255); fill-opacity: 1; stroke-width: 1px;\" width=\"58\" height=\"30\" x=\"0.5\" y=\"0.5\"/><g class=\"scrollbox\" transform=\"\" clip-path=\"url('#legend6efe31')\"><g class=\"groups\"><g class=\"traces\" transform=\"translate(1,15.5)\" style=\"opacity: 1;\"><text class=\"legendtext\" text-anchor=\"start\" x=\"40\" y=\"4.29\" style=\"font-family: sans-serif; font-size: 11px; fill: rgb(0, 0, 0); fill-opacity: 1; white-space: pre;\">y1</text><g class=\"layers\" style=\"opacity: 1;\"><g class=\"legendfill\"/><g class=\"legendlines\"/><g class=\"legendsymbols\"><g class=\"legendpoints\"><path class=\"scatterpts\" transform=\"translate(20,0)\" d=\"M4,0A4,4 0 1,1 0,-4A4,4 0 0,1 4,0Z\" style=\"opacity: 1; stroke-width: 1px; fill: rgb(0, 154, 250); fill-opacity: 1; stroke: rgb(0, 0, 0); stroke-opacity: 1;\"/></g></g></g><rect class=\"legendtoggle\" x=\"0\" y=\"-9.5\" width=\"51.625\" height=\"19\" style=\"fill: rgb(0, 0, 0); fill-opacity: 0;\"/></g></g></g><rect class=\"scrollbar\" rx=\"20\" ry=\"3\" width=\"0\" height=\"0\" style=\"fill: rgb(128, 139, 164); fill-opacity: 1;\" x=\"0\" y=\"0\"/></g><g class=\"g-gtitle\"/><g class=\"g-xtitle\"><text class=\"xtitle\" x=\"375.4166666666667\" y=\"462.140625\" text-anchor=\"middle\" style=\"font-family: sans-serif; font-size: 15px; fill: rgb(0, 0, 0); opacity: 1; font-weight: normal; white-space: pre;\">n</text></g><g class=\"g-ytitle\"><text class=\"ytitle\" transform=\"rotate(-90,54.65625,242.13541666666663)\" x=\"54.65625\" y=\"242.13541666666663\" text-anchor=\"middle\" style=\"font-family: sans-serif; font-size: 15px; fill: rgb(0, 0, 0); opacity: 1; font-weight: normal; white-space: pre;\">eigenenergy (ϵₙ) [au]</text></g></g></svg>"
      ],
      "text/html": [
       "<script src=\"https://cdn.plot.ly/plotly-2.6.3.min.js\"></script>    <div id=\"1f15f108-489c-4296-a55b-2ddbf879e5fb\" style=\"width:600px;height:400px;\"></div>\n",
       "    <script>\n",
       "    \n",
       "    Plotly.newPlot('1f15f108-489c-4296-a55b-2ddbf879e5fb', [\n",
       "    {\n",
       "        \"showlegend\": true,\n",
       "        \"mode\": \"markers\",\n",
       "        \"xaxis\": \"x\",\n",
       "        \"colorbar\": {\n",
       "            \"y\": 0.5329861111111112,\n",
       "            \"title\": \"\",\n",
       "            \"len\": 0.914342738407699,\n",
       "            \"x\": 0.9934383202099738\n",
       "        },\n",
       "        \"name\": \"y1\",\n",
       "        \"yaxis\": \"y\",\n",
       "        \"legendgroup\": \"y1\",\n",
       "        \"marker\": {\n",
       "            \"symbol\": \"circle\",\n",
       "            \"color\": \"rgba(0, 154, 250, 1.000)\",\n",
       "            \"line\": {\n",
       "                \"color\": \"rgba(0, 0, 0, 1.000)\",\n",
       "                \"width\": 1\n",
       "            },\n",
       "            \"size\": 8\n",
       "        },\n",
       "        \"y\": [\n",
       "            0.014992212660970772,\n",
       "            0.020338859316770697,\n",
       "            0.02608321294138056,\n",
       "            0.032423687717649155,\n",
       "            0.0394462883434214,\n",
       "            0.04720380919841334,\n",
       "            0.055734108945548845,\n",
       "            0.06506652450155188,\n",
       "            0.07522475939991947,\n",
       "            0.08622843800103644\n",
       "        ],\n",
       "        \"type\": \"scatter\",\n",
       "        \"x\": [\n",
       "            1,\n",
       "            2,\n",
       "            3,\n",
       "            4,\n",
       "            5,\n",
       "            6,\n",
       "            7,\n",
       "            8,\n",
       "            9,\n",
       "            10\n",
       "        ]\n",
       "    }\n",
       "]\n",
       ", {\n",
       "    \"showlegend\": true,\n",
       "    \"xaxis\": {\n",
       "        \"showticklabels\": true,\n",
       "        \"gridwidth\": 0.5,\n",
       "        \"tickvals\": [\n",
       "            2.0,\n",
       "            4.0,\n",
       "            6.0,\n",
       "            8.0,\n",
       "            10.0\n",
       "        ],\n",
       "        \"range\": [\n",
       "            0.7299999999999995,\n",
       "            10.27\n",
       "        ],\n",
       "        \"domain\": [\n",
       "            0.09128390201224845,\n",
       "            0.9934383202099738\n",
       "        ],\n",
       "        \"mirror\": false,\n",
       "        \"tickangle\": 0,\n",
       "        \"showline\": true,\n",
       "        \"ticktext\": [\n",
       "            \"2\",\n",
       "            \"4\",\n",
       "            \"6\",\n",
       "            \"8\",\n",
       "            \"10\"\n",
       "        ],\n",
       "        \"zeroline\": false,\n",
       "        \"tickfont\": {\n",
       "            \"color\": \"rgba(0, 0, 0, 1.000)\",\n",
       "            \"family\": \"sans-serif\",\n",
       "            \"size\": 11\n",
       "        },\n",
       "        \"zerolinecolor\": \"rgba(0, 0, 0, 1.000)\",\n",
       "        \"anchor\": \"y\",\n",
       "        \"visible\": true,\n",
       "        \"ticks\": \"inside\",\n",
       "        \"tickmode\": \"array\",\n",
       "        \"linecolor\": \"rgba(0, 0, 0, 1.000)\",\n",
       "        \"showgrid\": true,\n",
       "        \"title\": \"n\",\n",
       "        \"gridcolor\": \"rgba(0, 0, 0, 0.100)\",\n",
       "        \"titlefont\": {\n",
       "            \"color\": \"rgba(0, 0, 0, 1.000)\",\n",
       "            \"family\": \"sans-serif\",\n",
       "            \"size\": 15\n",
       "        },\n",
       "        \"tickcolor\": \"rgb(0, 0, 0)\",\n",
       "        \"type\": \"-\"\n",
       "    },\n",
       "    \"paper_bgcolor\": \"rgba(255, 255, 255, 1.000)\",\n",
       "    \"annotations\": [],\n",
       "    \"height\": 400,\n",
       "    \"margin\": {\n",
       "        \"l\": 0,\n",
       "        \"b\": 20,\n",
       "        \"r\": 0,\n",
       "        \"t\": 20\n",
       "    },\n",
       "    \"plot_bgcolor\": \"rgba(255, 255, 255, 1.000)\",\n",
       "    \"yaxis\": {\n",
       "        \"showticklabels\": true,\n",
       "        \"gridwidth\": 0.5,\n",
       "        \"tickvals\": [\n",
       "            0.020000000000000004,\n",
       "            0.030000000000000006,\n",
       "            0.04000000000000001,\n",
       "            0.05000000000000001,\n",
       "            0.06000000000000001,\n",
       "            0.07,\n",
       "            0.08000000000000002\n",
       "        ],\n",
       "        \"range\": [\n",
       "            0.012855125900768795,\n",
       "            0.0883655247612384\n",
       "        ],\n",
       "        \"domain\": [\n",
       "            0.07581474190726165,\n",
       "            0.9901574803149606\n",
       "        ],\n",
       "        \"mirror\": false,\n",
       "        \"tickangle\": 0,\n",
       "        \"showline\": true,\n",
       "        \"ticktext\": [\n",
       "            \"0.02\",\n",
       "            \"0.03\",\n",
       "            \"0.04\",\n",
       "            \"0.05\",\n",
       "            \"0.06\",\n",
       "            \"0.07\",\n",
       "            \"0.08\"\n",
       "        ],\n",
       "        \"zeroline\": false,\n",
       "        \"tickfont\": {\n",
       "            \"color\": \"rgba(0, 0, 0, 1.000)\",\n",
       "            \"family\": \"sans-serif\",\n",
       "            \"size\": 11\n",
       "        },\n",
       "        \"zerolinecolor\": \"rgba(0, 0, 0, 1.000)\",\n",
       "        \"anchor\": \"x\",\n",
       "        \"visible\": true,\n",
       "        \"ticks\": \"inside\",\n",
       "        \"tickmode\": \"array\",\n",
       "        \"linecolor\": \"rgba(0, 0, 0, 1.000)\",\n",
       "        \"showgrid\": true,\n",
       "        \"title\": \"eigenenergy (ϵₙ) [au]\",\n",
       "        \"gridcolor\": \"rgba(0, 0, 0, 0.100)\",\n",
       "        \"titlefont\": {\n",
       "            \"color\": \"rgba(0, 0, 0, 1.000)\",\n",
       "            \"family\": \"sans-serif\",\n",
       "            \"size\": 15\n",
       "        },\n",
       "        \"tickcolor\": \"rgb(0, 0, 0)\",\n",
       "        \"type\": \"-\"\n",
       "    },\n",
       "    \"legend\": {\n",
       "        \"yanchor\": \"bottom\",\n",
       "        \"xanchor\": \"right\",\n",
       "        \"bordercolor\": \"rgba(0, 0, 0, 1.000)\",\n",
       "        \"bgcolor\": \"rgba(255, 255, 255, 1.000)\",\n",
       "        \"borderwidth\": 1,\n",
       "        \"tracegroupgap\": 0,\n",
       "        \"y\": 0.07,\n",
       "        \"font\": {\n",
       "            \"color\": \"rgba(0, 0, 0, 1.000)\",\n",
       "            \"family\": \"sans-serif\",\n",
       "            \"size\": 11\n",
       "        },\n",
       "        \"title\": {\n",
       "            \"font\": {\n",
       "                \"color\": \"rgba(0, 0, 0, 1.000)\",\n",
       "                \"family\": \"sans-serif\",\n",
       "                \"size\": 15\n",
       "            },\n",
       "            \"text\": \"\"\n",
       "        },\n",
       "        \"traceorder\": \"normal\",\n",
       "        \"x\": 1.0\n",
       "    },\n",
       "    \"width\": 600\n",
       "}\n",
       ");\n",
       "    \n",
       "    </script>\n"
      ]
     },
     "metadata": {},
     "output_type": "display_data"
    }
   ],
   "source": [
    "fig1 = plot_eigenvalues(simulation_info, output_data)\n",
    "display(fig1)"
   ]
  },
  {
   "cell_type": "code",
   "execution_count": 19,
   "metadata": {},
   "outputs": [],
   "source": [
    "save(\"eigenenergies.pdf\",fig1)"
   ]
  }
 ],
 "metadata": {
  "kernelspec": {
   "display_name": "Julia 1.9.3",
   "language": "julia",
   "name": "julia-1.9"
  },
  "language_info": {
   "file_extension": ".jl",
   "mimetype": "application/julia",
   "name": "julia",
   "version": "1.9.3"
  }
 },
 "nbformat": 4,
 "nbformat_minor": 2
}
